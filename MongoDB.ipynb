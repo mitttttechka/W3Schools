{
 "cells": [
  {
   "cell_type": "code",
   "execution_count": 1,
   "id": "a49327ad-41e6-426d-990b-2f5907d2994d",
   "metadata": {},
   "outputs": [],
   "source": [
    "import pymongo"
   ]
  },
  {
   "cell_type": "code",
   "execution_count": 46,
   "id": "975da53f-af3b-4986-80f7-593ff4b15b6c",
   "metadata": {},
   "outputs": [],
   "source": [
    "myclient = pymongo.MongoClient(\"mongodb://localhost:27017/\")\n",
    "\n",
    "# creating database \"mydatabase\"\n",
    "mydb = myclient[\"mydatabase\"]\n",
    "\n",
    "# creating collection (table) \"customers\"\n",
    "mycol = mydb[\"customers\"]"
   ]
  },
  {
   "cell_type": "code",
   "execution_count": 49,
   "id": "a07ffa82-9fc7-447b-b64c-7080fc2d3441",
   "metadata": {},
   "outputs": [
    {
     "name": "stdout",
     "output_type": "stream",
     "text": [
      "['customers']\n"
     ]
    }
   ],
   "source": [
    "\n",
    "# list of collections -> list\n",
    "print(mydb.list_collection_names())"
   ]
  },
  {
   "cell_type": "code",
   "execution_count": 48,
   "id": "292b2639-4742-4d07-b27d-d99ac5873148",
   "metadata": {},
   "outputs": [],
   "source": [
    "mydict = {\"name\": \"John\", \"address\": \"Arbat 1\"}\n",
    "\n",
    "# inserting one document into collection -> InsertOneResult\n",
    "x = mycol.insert_one(mydict)"
   ]
  },
  {
   "cell_type": "code",
   "execution_count": 6,
   "id": "5a71597d-4864-4ad5-b020-f67326560abf",
   "metadata": {},
   "outputs": [
    {
     "name": "stdout",
     "output_type": "stream",
     "text": [
      "653394aa5ee9f77ddd374161\n"
     ]
    }
   ],
   "source": [
    "# id of the inserted document\n",
    "print(x.inserted_id)"
   ]
  },
  {
   "cell_type": "code",
   "execution_count": 50,
   "id": "a52a8c9b-d06f-4f61-8c9b-f0143911d639",
   "metadata": {},
   "outputs": [
    {
     "name": "stdout",
     "output_type": "stream",
     "text": [
      "[ObjectId('6533a3355ee9f77ddd37416e'), ObjectId('6533a3355ee9f77ddd37416f'), ObjectId('6533a3355ee9f77ddd374170'), ObjectId('6533a3355ee9f77ddd374171'), ObjectId('6533a3355ee9f77ddd374172')]\n"
     ]
    }
   ],
   "source": [
    "mydict = [\n",
    "    {\"name\": \"James\", \"address\": \"Arbat 6\"},\n",
    "    {\"name\": \"Alain\", \"address\": \"Arbat 2\"},\n",
    "    {\"name\": \"Steve\", \"address\": \"Arbat 3\"},\n",
    "    {\"name\": \"Dohn\", \"address\": \"Arbat 4\"},\n",
    "    {\"name\": \"Adeline\", \"address\": \"Arbat 5\"}\n",
    "]\n",
    "\n",
    "# inserting many documents into collection -> InsertManyResult\n",
    "x = mycol.insert_many(mydict)\n",
    "\n",
    "print(x.inserted_ids)"
   ]
  },
  {
   "cell_type": "code",
   "execution_count": 51,
   "id": "ad814c77-7f6c-4e0e-b916-d33ea82c87f6",
   "metadata": {},
   "outputs": [
    {
     "name": "stdout",
     "output_type": "stream",
     "text": [
      "[1, 2, 3, 4, 5]\n"
     ]
    }
   ],
   "source": [
    "mydict = [\n",
    "    {\"_id\": 1, \"name\": \"James\", \"address\": \"Arbat 6\"},\n",
    "    {\"_id\": 2, \"name\": \"Alain\", \"address\": \"Arbat 2\"},\n",
    "    {\"_id\": 3, \"name\": \"Steve\", \"address\": \"Arbat 3\"},\n",
    "    {\"_id\": 4, \"name\": \"Dohn\", \"address\": \"Arbat 4\"},\n",
    "    {\"_id\": 5, \"name\": \"Adeline\", \"address\": \"Arbat 5\"}\n",
    "]\n",
    "\n",
    "# inserting documents with specified ids into collection -> InsertManyResult\n",
    "x = mycol.insert_many(mydict)\n",
    "\n",
    "print(x.inserted_ids)"
   ]
  },
  {
   "cell_type": "code",
   "execution_count": 11,
   "id": "a4af3973-b4e2-4874-a623-1c725cdb34ba",
   "metadata": {},
   "outputs": [
    {
     "name": "stdout",
     "output_type": "stream",
     "text": [
      "{'_id': ObjectId('653292d8664af6057310a72b'), 'name': 'John', 'address': 'Highway 37'}\n"
     ]
    }
   ],
   "source": [
    "# returns the first occurance of selection\n",
    "x = mycol.find_one()\n",
    "\n",
    "print(x)"
   ]
  },
  {
   "cell_type": "code",
   "execution_count": 13,
   "id": "699a3556-1029-49af-b509-b541b674d3e0",
   "metadata": {},
   "outputs": [
    {
     "name": "stdout",
     "output_type": "stream",
     "text": [
      "{'_id': ObjectId('653292d8664af6057310a72b'), 'name': 'John', 'address': 'Highway 37'}\n",
      "{'_id': ObjectId('653394aa5ee9f77ddd374161'), 'name': 'John', 'address': 'Arbat 1'}\n",
      "{'_id': ObjectId('653395955ee9f77ddd374162'), 'name': 'James', 'address': 'Arbat 6'}\n",
      "{'_id': ObjectId('653395955ee9f77ddd374163'), 'name': 'Alain', 'address': 'Arbat 2'}\n",
      "{'_id': ObjectId('653395955ee9f77ddd374164'), 'name': 'Steve', 'address': 'Arbat 3'}\n",
      "{'_id': ObjectId('653395955ee9f77ddd374165'), 'name': 'Dohn', 'address': 'Arbat 4'}\n",
      "{'_id': ObjectId('653395955ee9f77ddd374166'), 'name': 'Adeline', 'address': 'Arbat 5'}\n",
      "{'_id': ObjectId('653396365ee9f77ddd374167'), 'name': 'James', 'address': 'Arbat 6'}\n",
      "{'_id': ObjectId('653396365ee9f77ddd374168'), 'name': 'Alain', 'address': 'Arbat 2'}\n",
      "{'_id': ObjectId('653396365ee9f77ddd374169'), 'name': 'Steve', 'address': 'Arbat 3'}\n",
      "{'_id': ObjectId('653396365ee9f77ddd37416a'), 'name': 'Dohn', 'address': 'Arbat 4'}\n",
      "{'_id': ObjectId('653396365ee9f77ddd37416b'), 'name': 'Adeline', 'address': 'Arbat 5'}\n",
      "{'_id': 1, 'name': 'James', 'address': 'Arbat 6'}\n",
      "{'_id': 2, 'name': 'Alain', 'address': 'Arbat 2'}\n",
      "{'_id': 3, 'name': 'Steve', 'address': 'Arbat 3'}\n",
      "{'_id': 4, 'name': 'Dohn', 'address': 'Arbat 4'}\n",
      "{'_id': 5, 'name': 'Adeline', 'address': 'Arbat 5'}\n"
     ]
    }
   ],
   "source": [
    "# collection.find() <=> select * from collection\n",
    "for x in mycol.find():\n",
    "    print(x)"
   ]
  },
  {
   "cell_type": "code",
   "execution_count": 19,
   "id": "84b19f46-26ad-4ad7-9991-7088e5c33efe",
   "metadata": {},
   "outputs": [
    {
     "name": "stdout",
     "output_type": "stream",
     "text": [
      "{'name': 'John', 'address': 'Highway 37'}\n",
      "{'name': 'John', 'address': 'Arbat 1'}\n",
      "{'name': 'James', 'address': 'Arbat 6'}\n",
      "{'name': 'Alain', 'address': 'Arbat 2'}\n",
      "{'name': 'Steve', 'address': 'Arbat 3'}\n",
      "{'name': 'Dohn', 'address': 'Arbat 4'}\n",
      "{'name': 'Adeline', 'address': 'Arbat 5'}\n",
      "{'name': 'James', 'address': 'Arbat 6'}\n",
      "{'name': 'Alain', 'address': 'Arbat 2'}\n",
      "{'name': 'Steve', 'address': 'Arbat 3'}\n",
      "{'name': 'Dohn', 'address': 'Arbat 4'}\n",
      "{'name': 'Adeline', 'address': 'Arbat 5'}\n",
      "{'name': 'James', 'address': 'Arbat 6'}\n",
      "{'name': 'Alain', 'address': 'Arbat 2'}\n",
      "{'name': 'Steve', 'address': 'Arbat 3'}\n",
      "{'name': 'Dohn', 'address': 'Arbat 4'}\n",
      "{'name': 'Adeline', 'address': 'Arbat 5'}\n"
     ]
    }
   ],
   "source": [
    "# as 2nd parameter in .find we can specify which columns we want to select\n",
    "# we can specify only 0s or only 1s, excluding _id, otherwise error\n",
    "for x in mycol.find({}, {\"_id\": 0, \"name\": 1, \"address\": 1}):\n",
    "    print(x)"
   ]
  },
  {
   "cell_type": "code",
   "execution_count": 20,
   "id": "5026501d-1299-45e5-b9d8-23dbb36b3731",
   "metadata": {},
   "outputs": [
    {
     "name": "stdout",
     "output_type": "stream",
     "text": [
      "{'_id': ObjectId('653395955ee9f77ddd374165'), 'name': 'Dohn', 'address': 'Arbat 4'}\n",
      "{'_id': ObjectId('653396365ee9f77ddd37416a'), 'name': 'Dohn', 'address': 'Arbat 4'}\n",
      "{'_id': 4, 'name': 'Dohn', 'address': 'Arbat 4'}\n"
     ]
    }
   ],
   "source": [
    "filter = {\"address\": \"Arbat 4\"}\n",
    "\n",
    "# first parameter is query for request\n",
    "for x in mycol.find(filter):\n",
    "    print(x)"
   ]
  },
  {
   "cell_type": "code",
   "execution_count": 24,
   "id": "d5f98e35-e80c-40ce-b424-56773b8050f3",
   "metadata": {},
   "outputs": [
    {
     "name": "stdout",
     "output_type": "stream",
     "text": [
      "{'_id': ObjectId('653292d8664af6057310a72b'), 'name': 'John', 'address': 'Highway 37'}\n"
     ]
    }
   ],
   "source": [
    "# advanced query, gt <=> greater than\n",
    "filter_advanced = {\"address\": {\"$gt\": \"B\"}}\n",
    "\n",
    "for x in mycol.find(filter_advanced):\n",
    "    print(x)"
   ]
  },
  {
   "cell_type": "code",
   "execution_count": 30,
   "id": "e81ef44f-c416-4bbd-8e17-6e842e67c9b0",
   "metadata": {},
   "outputs": [
    {
     "name": "stdout",
     "output_type": "stream",
     "text": [
      "{'_id': ObjectId('653292d8664af6057310a72b'), 'name': 'John', 'address': 'Highway 37'}\n"
     ]
    }
   ],
   "source": [
    "# regex query, only for strings\n",
    "filter_regex = { \"address\": { \"$regex\": \"^H\" } }\n",
    "\n",
    "for x in mycol.find(filter_regex):\n",
    "    print(x)"
   ]
  },
  {
   "cell_type": "code",
   "execution_count": 33,
   "id": "159b9c54-30b8-4e5d-a32e-9cd4f934136d",
   "metadata": {},
   "outputs": [
    {
     "name": "stdout",
     "output_type": "stream",
     "text": [
      "{'_id': ObjectId('653292d8664af6057310a72b'), 'name': 'John', 'address': 'Highway 37'}\n",
      "{'_id': ObjectId('653395955ee9f77ddd374162'), 'name': 'James', 'address': 'Arbat 6'}\n",
      "{'_id': ObjectId('653396365ee9f77ddd374167'), 'name': 'James', 'address': 'Arbat 6'}\n",
      "{'_id': 1, 'name': 'James', 'address': 'Arbat 6'}\n",
      "{'_id': ObjectId('653395955ee9f77ddd374166'), 'name': 'Adeline', 'address': 'Arbat 5'}\n",
      "{'_id': ObjectId('653396365ee9f77ddd37416b'), 'name': 'Adeline', 'address': 'Arbat 5'}\n",
      "{'_id': 5, 'name': 'Adeline', 'address': 'Arbat 5'}\n",
      "{'_id': ObjectId('653395955ee9f77ddd374165'), 'name': 'Dohn', 'address': 'Arbat 4'}\n",
      "{'_id': ObjectId('653396365ee9f77ddd37416a'), 'name': 'Dohn', 'address': 'Arbat 4'}\n",
      "{'_id': 4, 'name': 'Dohn', 'address': 'Arbat 4'}\n",
      "{'_id': ObjectId('653395955ee9f77ddd374164'), 'name': 'Steve', 'address': 'Arbat 3'}\n",
      "{'_id': ObjectId('653396365ee9f77ddd374169'), 'name': 'Steve', 'address': 'Arbat 3'}\n",
      "{'_id': 3, 'name': 'Steve', 'address': 'Arbat 3'}\n",
      "{'_id': ObjectId('653395955ee9f77ddd374163'), 'name': 'Alain', 'address': 'Arbat 2'}\n",
      "{'_id': ObjectId('653396365ee9f77ddd374168'), 'name': 'Alain', 'address': 'Arbat 2'}\n",
      "{'_id': 2, 'name': 'Alain', 'address': 'Arbat 2'}\n",
      "{'_id': ObjectId('653394aa5ee9f77ddd374161'), 'name': 'John', 'address': 'Arbat 1'}\n"
     ]
    }
   ],
   "source": [
    "# sort has 2 parameters: fieldname, direction\n",
    "mydoc = mycol.find().sort(\"address\", -1)\n",
    "\n",
    "for x in mydoc:\n",
    "    print(x)"
   ]
  },
  {
   "cell_type": "code",
   "execution_count": 40,
   "id": "68049b36-fe2f-4c29-9479-26e5c5ad9ac7",
   "metadata": {},
   "outputs": [
    {
     "name": "stdout",
     "output_type": "stream",
     "text": [
      "{'_id': ObjectId('653292d8664af6057310a72b'), 'name': 'John', 'address': 'Highway 37'}\n",
      "{'_id': ObjectId('653395955ee9f77ddd374162'), 'name': 'James', 'address': 'Arbat 6'}\n",
      "{'_id': ObjectId('653395955ee9f77ddd374164'), 'name': 'Steve', 'address': 'Arbat 3'}\n",
      "{'_id': ObjectId('653395955ee9f77ddd374165'), 'name': 'Dohn', 'address': 'Arbat 4'}\n",
      "{'_id': ObjectId('653395955ee9f77ddd374166'), 'name': 'Adeline', 'address': 'Arbat 5'}\n",
      "{'_id': ObjectId('653396365ee9f77ddd374167'), 'name': 'James', 'address': 'Arbat 6'}\n",
      "{'_id': ObjectId('653396365ee9f77ddd374169'), 'name': 'Steve', 'address': 'Arbat 3'}\n",
      "{'_id': ObjectId('653396365ee9f77ddd37416a'), 'name': 'Dohn', 'address': 'Arbat 4'}\n",
      "{'_id': ObjectId('653396365ee9f77ddd37416b'), 'name': 'Adeline', 'address': 'Arbat 5'}\n",
      "{'_id': 1, 'name': 'James', 'address': 'Arbat 6'}\n",
      "{'_id': 2, 'name': 'Alain', 'address': 'Arbat 2'}\n",
      "{'_id': 3, 'name': 'Steve', 'address': 'Arbat 3'}\n",
      "{'_id': 4, 'name': 'Dohn', 'address': 'Arbat 4'}\n",
      "{'_id': 5, 'name': 'Adeline', 'address': 'Arbat 5'}\n"
     ]
    }
   ],
   "source": [
    "delete_filter = {\"address\": \"Arbat 2\"}\n",
    "\n",
    "# deletes the first filtered document \n",
    "mycol.delete_one(delete_filter)\n",
    "\n",
    "for x in mycol.find():\n",
    "    print(x)"
   ]
  },
  {
   "cell_type": "code",
   "execution_count": 42,
   "id": "d4c80d95-10ad-466b-9d39-70bb1e3773b7",
   "metadata": {},
   "outputs": [
    {
     "name": "stdout",
     "output_type": "stream",
     "text": [
      "3  documents deleted.\n"
     ]
    }
   ],
   "source": [
    "delete_regex = {\"address\": \"Arbat 5\"}\n",
    "\n",
    "# deletes all filtered documents. Also possible filter with regex\n",
    "x = mycol.delete_many(delete_regex)\n",
    "\n",
    "print(x.deleted_count, \" documents deleted.\")"
   ]
  },
  {
   "cell_type": "code",
   "execution_count": 43,
   "id": "c49b7dd1-da2d-4053-9f6c-fb72136ae790",
   "metadata": {},
   "outputs": [
    {
     "name": "stdout",
     "output_type": "stream",
     "text": [
      "11  documents deleted.\n"
     ]
    }
   ],
   "source": [
    "# deletes all documents in collection\n",
    "x = mycol.delete_many({})\n",
    "\n",
    "print(x.deleted_count, \" documents deleted.\")"
   ]
  },
  {
   "cell_type": "code",
   "execution_count": 44,
   "id": "20962087-b2eb-498e-b13b-1356894ae1ff",
   "metadata": {},
   "outputs": [
    {
     "name": "stdout",
     "output_type": "stream",
     "text": [
      "None\n"
     ]
    }
   ],
   "source": [
    "# drops the collection, returns bool if success\n",
    "res = mycol.drop()\n",
    "\n",
    "print(res)"
   ]
  },
  {
   "cell_type": "code",
   "execution_count": 52,
   "id": "a4f8815e-45a8-45de-824f-cb37c8474a92",
   "metadata": {},
   "outputs": [
    {
     "name": "stdout",
     "output_type": "stream",
     "text": [
      "{'_id': ObjectId('6533a3315ee9f77ddd37416d'), 'name': 'John', 'address': 'Tverskaya 10'}\n",
      "{'_id': ObjectId('6533a3355ee9f77ddd37416e'), 'name': 'James', 'address': 'Arbat 6'}\n",
      "{'_id': ObjectId('6533a3355ee9f77ddd37416f'), 'name': 'Alain', 'address': 'Arbat 2'}\n",
      "{'_id': ObjectId('6533a3355ee9f77ddd374170'), 'name': 'Steve', 'address': 'Arbat 3'}\n",
      "{'_id': ObjectId('6533a3355ee9f77ddd374171'), 'name': 'Dohn', 'address': 'Arbat 4'}\n",
      "{'_id': ObjectId('6533a3355ee9f77ddd374172'), 'name': 'Adeline', 'address': 'Arbat 5'}\n",
      "{'_id': 1, 'name': 'James', 'address': 'Arbat 6'}\n",
      "{'_id': 2, 'name': 'Alain', 'address': 'Arbat 2'}\n",
      "{'_id': 3, 'name': 'Steve', 'address': 'Arbat 3'}\n",
      "{'_id': 4, 'name': 'Dohn', 'address': 'Arbat 4'}\n",
      "{'_id': 5, 'name': 'Adeline', 'address': 'Arbat 5'}\n"
     ]
    }
   ],
   "source": [
    "update_filter = {\"address\": \"Arbat 1\"}\n",
    "new_value = {\"$set\": {\"address\": \"Tverskaya 10\"}}\n",
    "\n",
    "# updates one record in colletion for filter. If many records, updates first\n",
    "mycol.update_one(update_filter, new_value)\n",
    "\n",
    "for x in mycol.find():\n",
    "    print(x)"
   ]
  },
  {
   "cell_type": "code",
   "execution_count": 54,
   "id": "89e49eb6-a93a-4ecc-805a-7bdc4df6054d",
   "metadata": {},
   "outputs": [
    {
     "name": "stdout",
     "output_type": "stream",
     "text": [
      "2  documents updated\n"
     ]
    }
   ],
   "source": [
    "update_filter = {\"address\": \"Arbat 3\"}\n",
    "new_value = {\"$set\": {\"address\": \"Tverskaya 30\"}}\n",
    "\n",
    "# updates all records in colletion for filter\n",
    "x = mycol.update_many(update_filter, new_value)\n",
    "\n",
    "print(x.modified_count, \" documents updated\")"
   ]
  },
  {
   "cell_type": "code",
   "execution_count": 55,
   "id": "c971e998-7c85-4214-b087-2397882dab26",
   "metadata": {},
   "outputs": [
    {
     "name": "stdout",
     "output_type": "stream",
     "text": [
      "{'_id': ObjectId('6533a3315ee9f77ddd37416d'), 'name': 'John', 'address': 'Tverskaya 10'}\n",
      "{'_id': ObjectId('6533a3355ee9f77ddd37416e'), 'name': 'James', 'address': 'Arbat 6'}\n",
      "{'_id': ObjectId('6533a3355ee9f77ddd37416f'), 'name': 'Alain', 'address': 'Tverskaya 20'}\n",
      "{'_id': ObjectId('6533a3355ee9f77ddd374170'), 'name': 'Steve', 'address': 'Tverskaya 30'}\n",
      "{'_id': ObjectId('6533a3355ee9f77ddd374171'), 'name': 'Dohn', 'address': 'Arbat 4'}\n"
     ]
    }
   ],
   "source": [
    "# limits number of documents to select\n",
    "for x in mycol.find().limit(5):\n",
    "    print(x)"
   ]
  }
 ],
 "metadata": {
  "kernelspec": {
   "display_name": "Python 3 (ipykernel)",
   "language": "python",
   "name": "python3"
  },
  "language_info": {
   "codemirror_mode": {
    "name": "ipython",
    "version": 3
   },
   "file_extension": ".py",
   "mimetype": "text/x-python",
   "name": "python",
   "nbconvert_exporter": "python",
   "pygments_lexer": "ipython3",
   "version": "3.9.10"
  }
 },
 "nbformat": 4,
 "nbformat_minor": 5
}
